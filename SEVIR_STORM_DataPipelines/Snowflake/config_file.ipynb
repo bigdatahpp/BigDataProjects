{
 "cells": [
  {
   "cell_type": "code",
   "execution_count": 1,
   "metadata": {},
   "outputs": [
    {
     "name": "stdout",
     "output_type": "stream",
     "text": [
      "Collecting configparser\n",
      "  Downloading configparser-5.0.2-py3-none-any.whl (19 kB)\n",
      "Installing collected packages: configparser\n",
      "Successfully installed configparser-5.0.2\n",
      "Note: you may need to restart the kernel to use updated packages.\n"
     ]
    }
   ],
   "source": [
    "!pip install configparser"
   ]
  },
  {
   "cell_type": "code",
   "execution_count": 4,
   "metadata": {},
   "outputs": [],
   "source": [
    "from configparser import ConfigParser\n",
    "config = ConfigParser()\n",
    "\n",
    "config.read('config.ini')\n",
    "config.add_section('main1')\n",
    "config.set('main1', 'username', 'PRANATHIMANU')\n",
    "config.set('main1', 'password', '******')\n",
    "config.set('main1', 'account', 'xva35862')\n",
    "config.set('main1', 'database', 'WEATHER')\n",
    "config.set('main1', 'schema', 'STORM')\n",
    "config.set('main1', 'warehouse', 'COMPUTE_WH')\n",
    "config.set('main1', 'role', 'SYSADMIN')\n",
    "\n",
    "with open('config.ini', 'w') as f:\n",
    "    config.write(f)\n",
    "    \n"
   ]
  },
  {
   "cell_type": "code",
   "execution_count": null,
   "metadata": {},
   "outputs": [],
   "source": []
  }
 ],
 "metadata": {
  "kernelspec": {
   "display_name": "Python 3",
   "language": "python",
   "name": "python3"
  },
  "language_info": {
   "codemirror_mode": {
    "name": "ipython",
    "version": 3
   },
   "file_extension": ".py",
   "mimetype": "text/x-python",
   "name": "python",
   "nbconvert_exporter": "python",
   "pygments_lexer": "ipython3",
   "version": "3.8.5"
  }
 },
 "nbformat": 4,
 "nbformat_minor": 4
}
